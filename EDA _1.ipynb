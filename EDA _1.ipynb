{
 "cells": [
  {
   "cell_type": "code",
   "execution_count": 10,
   "metadata": {},
   "outputs": [
    {
     "data": {
      "text/html": [
       "<div>\n",
       "<style scoped>\n",
       "    .dataframe tbody tr th:only-of-type {\n",
       "        vertical-align: middle;\n",
       "    }\n",
       "\n",
       "    .dataframe tbody tr th {\n",
       "        vertical-align: top;\n",
       "    }\n",
       "\n",
       "    .dataframe thead th {\n",
       "        text-align: right;\n",
       "    }\n",
       "</style>\n",
       "<table border=\"1\" class=\"dataframe\">\n",
       "  <thead>\n",
       "    <tr style=\"text-align: right;\">\n",
       "      <th></th>\n",
       "      <th>Player</th>\n",
       "      <th>Tm</th>\n",
       "      <th>Age</th>\n",
       "      <th>Pos</th>\n",
       "      <th>G</th>\n",
       "      <th>GS</th>\n",
       "      <th>QBrec</th>\n",
       "      <th>Cmp</th>\n",
       "      <th>Att</th>\n",
       "      <th>Cmp%</th>\n",
       "      <th>...</th>\n",
       "      <th>QBR</th>\n",
       "      <th>Sk</th>\n",
       "      <th>Yds.1</th>\n",
       "      <th>NY/A</th>\n",
       "      <th>ANY/A</th>\n",
       "      <th>Sk%</th>\n",
       "      <th>4QC</th>\n",
       "      <th>GWD</th>\n",
       "      <th>Height</th>\n",
       "      <th>Weight</th>\n",
       "    </tr>\n",
       "  </thead>\n",
       "  <tbody>\n",
       "    <tr>\n",
       "      <td>0</td>\n",
       "      <td>Peyton Manning*</td>\n",
       "      <td>IND</td>\n",
       "      <td>34</td>\n",
       "      <td>QB</td>\n",
       "      <td>16</td>\n",
       "      <td>16</td>\n",
       "      <td>10-6-0</td>\n",
       "      <td>450</td>\n",
       "      <td>679</td>\n",
       "      <td>66.3</td>\n",
       "      <td>...</td>\n",
       "      <td>75.7</td>\n",
       "      <td>16</td>\n",
       "      <td>91</td>\n",
       "      <td>6.63</td>\n",
       "      <td>6.48</td>\n",
       "      <td>2.3</td>\n",
       "      <td>0.0</td>\n",
       "      <td>2.0</td>\n",
       "      <td>6-5</td>\n",
       "      <td>230lb</td>\n",
       "    </tr>\n",
       "    <tr>\n",
       "      <td>1</td>\n",
       "      <td>Drew Brees*</td>\n",
       "      <td>NOR</td>\n",
       "      <td>31</td>\n",
       "      <td>QB</td>\n",
       "      <td>16</td>\n",
       "      <td>16</td>\n",
       "      <td>11-5-0</td>\n",
       "      <td>448</td>\n",
       "      <td>658</td>\n",
       "      <td>68.1</td>\n",
       "      <td>...</td>\n",
       "      <td>70.6</td>\n",
       "      <td>25</td>\n",
       "      <td>185</td>\n",
       "      <td>6.49</td>\n",
       "      <td>6.01</td>\n",
       "      <td>3.7</td>\n",
       "      <td>4.0</td>\n",
       "      <td>5.0</td>\n",
       "      <td>6-0</td>\n",
       "      <td>209lb</td>\n",
       "    </tr>\n",
       "    <tr>\n",
       "      <td>2</td>\n",
       "      <td>Sam Bradford</td>\n",
       "      <td>STL</td>\n",
       "      <td>23</td>\n",
       "      <td>QB</td>\n",
       "      <td>16</td>\n",
       "      <td>16</td>\n",
       "      <td>7-9-0</td>\n",
       "      <td>354</td>\n",
       "      <td>590</td>\n",
       "      <td>60.0</td>\n",
       "      <td>...</td>\n",
       "      <td>47.0</td>\n",
       "      <td>34</td>\n",
       "      <td>244</td>\n",
       "      <td>5.24</td>\n",
       "      <td>4.73</td>\n",
       "      <td>5.4</td>\n",
       "      <td>NaN</td>\n",
       "      <td>NaN</td>\n",
       "      <td>6-4</td>\n",
       "      <td>224lb</td>\n",
       "    </tr>\n",
       "    <tr>\n",
       "      <td>3</td>\n",
       "      <td>Carson Palmer</td>\n",
       "      <td>CIN</td>\n",
       "      <td>31</td>\n",
       "      <td>QB</td>\n",
       "      <td>16</td>\n",
       "      <td>16</td>\n",
       "      <td>4-12-0</td>\n",
       "      <td>362</td>\n",
       "      <td>586</td>\n",
       "      <td>61.8</td>\n",
       "      <td>...</td>\n",
       "      <td>54.6</td>\n",
       "      <td>26</td>\n",
       "      <td>201</td>\n",
       "      <td>6.16</td>\n",
       "      <td>5.54</td>\n",
       "      <td>4.2</td>\n",
       "      <td>1.0</td>\n",
       "      <td>1.0</td>\n",
       "      <td>6-5</td>\n",
       "      <td>235lb</td>\n",
       "    </tr>\n",
       "    <tr>\n",
       "      <td>4</td>\n",
       "      <td>Matt Schaub</td>\n",
       "      <td>HOU</td>\n",
       "      <td>29</td>\n",
       "      <td>QB</td>\n",
       "      <td>16</td>\n",
       "      <td>16</td>\n",
       "      <td>6-10-0</td>\n",
       "      <td>365</td>\n",
       "      <td>574</td>\n",
       "      <td>63.6</td>\n",
       "      <td>...</td>\n",
       "      <td>62.9</td>\n",
       "      <td>32</td>\n",
       "      <td>226</td>\n",
       "      <td>6.84</td>\n",
       "      <td>6.74</td>\n",
       "      <td>5.3</td>\n",
       "      <td>2.0</td>\n",
       "      <td>2.0</td>\n",
       "      <td>6-6</td>\n",
       "      <td>245lb</td>\n",
       "    </tr>\n",
       "  </tbody>\n",
       "</table>\n",
       "<p>5 rows × 32 columns</p>\n",
       "</div>"
      ],
      "text/plain": [
       "            Player   Tm  Age Pos   G  GS   QBrec  Cmp  Att  Cmp%  ...   QBR  \\\n",
       "0  Peyton Manning*  IND   34  QB  16  16  10-6-0  450  679  66.3  ...  75.7   \n",
       "1      Drew Brees*  NOR   31  QB  16  16  11-5-0  448  658  68.1  ...  70.6   \n",
       "2    Sam Bradford   STL   23  QB  16  16   7-9-0  354  590  60.0  ...  47.0   \n",
       "3    Carson Palmer  CIN   31  QB  16  16  4-12-0  362  586  61.8  ...  54.6   \n",
       "4      Matt Schaub  HOU   29  QB  16  16  6-10-0  365  574  63.6  ...  62.9   \n",
       "\n",
       "   Sk  Yds.1  NY/A  ANY/A  Sk%  4QC  GWD  Height  Weight  \n",
       "0  16     91  6.63   6.48  2.3  0.0  2.0     6-5   230lb  \n",
       "1  25    185  6.49   6.01  3.7  4.0  5.0     6-0   209lb  \n",
       "2  34    244  5.24   4.73  5.4  NaN  NaN     6-4   224lb  \n",
       "3  26    201  6.16   5.54  4.2  1.0  1.0     6-5   235lb  \n",
       "4  32    226  6.84   6.74  5.3  2.0  2.0     6-6   245lb  \n",
       "\n",
       "[5 rows x 32 columns]"
      ]
     },
     "execution_count": 10,
     "metadata": {},
     "output_type": "execute_result"
    }
   ],
   "source": [
    "import pandas as pd\n",
    "import matplotlib.pyplot as plt\n",
    "\n",
    "pass2010 = pd.read_csv('data/Passing_2010.csv')\n",
    "pass2010.head()\n",
    "#sort by ht, wt\n",
    "#hist\n",
    "# type(pass2010)\n"
   ]
  },
  {
   "cell_type": "code",
   "execution_count": 11,
   "metadata": {},
   "outputs": [],
   "source": [
    "\n",
    "def height_val(s):\n",
    "    feet, inches = s.split('-')\n",
    "    return int(feet) + int(inches)/12"
   ]
  },
  {
   "cell_type": "code",
   "execution_count": 12,
   "metadata": {},
   "outputs": [
    {
     "data": {
      "text/plain": [
       "Player     object\n",
       "Tm         object\n",
       "Age         int64\n",
       "Pos        object\n",
       "G           int64\n",
       "GS          int64\n",
       "QBrec      object\n",
       "Cmp         int64\n",
       "Att         int64\n",
       "Cmp%      float64\n",
       "Yds         int64\n",
       "TD          int64\n",
       "TD%       float64\n",
       "Int         int64\n",
       "Int%      float64\n",
       "1D          int64\n",
       "Lng         int64\n",
       "Y/A       float64\n",
       "AY/A      float64\n",
       "Y/C       float64\n",
       "Y/G       float64\n",
       "Rate      float64\n",
       "QBR       float64\n",
       "Sk          int64\n",
       "Yds.1       int64\n",
       "NY/A      float64\n",
       "ANY/A     float64\n",
       "Sk%       float64\n",
       "4QC       float64\n",
       "GWD       float64\n",
       "Height     object\n",
       "Weight     object\n",
       "dtype: object"
      ]
     },
     "execution_count": 12,
     "metadata": {},
     "output_type": "execute_result"
    }
   ],
   "source": [
    "# pass2010.Height = pass2010.Height.apply(height_val)\n",
    "pass2010.dtypes"
   ]
  },
  {
   "cell_type": "code",
   "execution_count": 13,
   "metadata": {},
   "outputs": [
    {
     "data": {
      "text/plain": [
       "3.3333333333333335"
      ]
     },
     "execution_count": 13,
     "metadata": {},
     "output_type": "execute_result"
    }
   ],
   "source": [
    "height_val('3-4')"
   ]
  },
  {
   "cell_type": "code",
   "execution_count": 14,
   "metadata": {},
   "outputs": [],
   "source": [
    "pass2011 = pd.read_csv('data/Passing_2011.csv')\n",
    "pass2012 = pd.read_csv('data/Passing_2012.csv')\n",
    "pass2013 = pd.read_csv('data/Passing_2013.csv')\n",
    "pass2014 = pd.read_csv('data/Passing_2014.csv')\n",
    "pass2015 = pd.read_csv('data/Passing_2015.csv')\n",
    "pass2016 = pd.read_csv('data/Advanced_Passing_2016.csv')\n",
    "pass2017 = pd.read_csv('data/Advanced_Passing_2017.csv')\n",
    "pass2018 = pd.read_csv('data/Advanced_Passing_2018.csv')\n",
    "pass2019 = pd.read_csv('data/Advanced_Passing_2019.csv')\n",
    "pass2011.columns\n",
    "pass_lst = [pass2010, pass2011, pass2012,pass2013,pass2014,pass2015,pass2016,pass2017,pass2018,pass2019]\n"
   ]
  },
  {
   "cell_type": "code",
   "execution_count": null,
   "metadata": {},
   "outputs": [],
   "source": []
  },
  {
   "cell_type": "code",
   "execution_count": 15,
   "metadata": {},
   "outputs": [],
   "source": [
    "\n",
    "for df in pass_lst:\n",
    "    \n",
    "    df['Height'] = df.Height.apply(height_val)\n",
    "    df['Weight'] = df.Weight.str.slice(0,3).astype(float)\n",
    "    df['BMI'] = 703 * df['Weight']/(df['Height']**2)\n",
    "    df.sort_values(by='Height', inplace=True)"
   ]
  },
  {
   "cell_type": "code",
   "execution_count": 16,
   "metadata": {},
   "outputs": [
    {
     "data": {
      "text/html": [
       "<div>\n",
       "<style scoped>\n",
       "    .dataframe tbody tr th:only-of-type {\n",
       "        vertical-align: middle;\n",
       "    }\n",
       "\n",
       "    .dataframe tbody tr th {\n",
       "        vertical-align: top;\n",
       "    }\n",
       "\n",
       "    .dataframe thead th {\n",
       "        text-align: right;\n",
       "    }\n",
       "</style>\n",
       "<table border=\"1\" class=\"dataframe\">\n",
       "  <thead>\n",
       "    <tr style=\"text-align: right;\">\n",
       "      <th></th>\n",
       "      <th>Player</th>\n",
       "      <th>Tm</th>\n",
       "      <th>Age</th>\n",
       "      <th>Pos</th>\n",
       "      <th>G</th>\n",
       "      <th>GS</th>\n",
       "      <th>QBrec</th>\n",
       "      <th>Cmp</th>\n",
       "      <th>Att</th>\n",
       "      <th>Cmp%</th>\n",
       "      <th>...</th>\n",
       "      <th>Sk</th>\n",
       "      <th>Yds.1</th>\n",
       "      <th>NY/A</th>\n",
       "      <th>ANY/A</th>\n",
       "      <th>Sk%</th>\n",
       "      <th>4QC</th>\n",
       "      <th>GWD</th>\n",
       "      <th>Height</th>\n",
       "      <th>Weight</th>\n",
       "      <th>BMI</th>\n",
       "    </tr>\n",
       "  </thead>\n",
       "  <tbody>\n",
       "    <tr>\n",
       "      <td>25</td>\n",
       "      <td>Russell Wilson *</td>\n",
       "      <td>SEA</td>\n",
       "      <td>24</td>\n",
       "      <td>QB</td>\n",
       "      <td>16</td>\n",
       "      <td>16</td>\n",
       "      <td>11-5-0</td>\n",
       "      <td>252</td>\n",
       "      <td>393</td>\n",
       "      <td>64.1</td>\n",
       "      <td>...</td>\n",
       "      <td>33</td>\n",
       "      <td>203</td>\n",
       "      <td>6.84</td>\n",
       "      <td>7.01</td>\n",
       "      <td>7.7</td>\n",
       "      <td>3.0</td>\n",
       "      <td>4.0</td>\n",
       "      <td>5.916667</td>\n",
       "      <td>215.0</td>\n",
       "      <td>4317.571910</td>\n",
       "    </tr>\n",
       "    <tr>\n",
       "      <td>1</td>\n",
       "      <td>Drew Brees*</td>\n",
       "      <td>NOR</td>\n",
       "      <td>33</td>\n",
       "      <td>QB</td>\n",
       "      <td>16</td>\n",
       "      <td>16</td>\n",
       "      <td>7-9-0</td>\n",
       "      <td>422</td>\n",
       "      <td>670</td>\n",
       "      <td>63.0</td>\n",
       "      <td>...</td>\n",
       "      <td>26</td>\n",
       "      <td>190</td>\n",
       "      <td>7.17</td>\n",
       "      <td>7.17</td>\n",
       "      <td>3.7</td>\n",
       "      <td>1.0</td>\n",
       "      <td>2.0</td>\n",
       "      <td>6.000000</td>\n",
       "      <td>209.0</td>\n",
       "      <td>4081.305556</td>\n",
       "    </tr>\n",
       "    <tr>\n",
       "      <td>26</td>\n",
       "      <td>Michael Vick</td>\n",
       "      <td>PHI</td>\n",
       "      <td>32</td>\n",
       "      <td>QB</td>\n",
       "      <td>10</td>\n",
       "      <td>10</td>\n",
       "      <td>3-7-0</td>\n",
       "      <td>204</td>\n",
       "      <td>351</td>\n",
       "      <td>58.1</td>\n",
       "      <td>...</td>\n",
       "      <td>28</td>\n",
       "      <td>153</td>\n",
       "      <td>5.83</td>\n",
       "      <td>5.27</td>\n",
       "      <td>7.4</td>\n",
       "      <td>3.0</td>\n",
       "      <td>3.0</td>\n",
       "      <td>6.000000</td>\n",
       "      <td>210.0</td>\n",
       "      <td>4100.833333</td>\n",
       "    </tr>\n",
       "    <tr>\n",
       "      <td>2</td>\n",
       "      <td>Tony Romo</td>\n",
       "      <td>DAL</td>\n",
       "      <td>32</td>\n",
       "      <td>QB</td>\n",
       "      <td>16</td>\n",
       "      <td>16</td>\n",
       "      <td>8-8-0</td>\n",
       "      <td>425</td>\n",
       "      <td>648</td>\n",
       "      <td>65.6</td>\n",
       "      <td>...</td>\n",
       "      <td>36</td>\n",
       "      <td>263</td>\n",
       "      <td>6.78</td>\n",
       "      <td>6.35</td>\n",
       "      <td>5.3</td>\n",
       "      <td>5.0</td>\n",
       "      <td>5.0</td>\n",
       "      <td>6.166667</td>\n",
       "      <td>230.0</td>\n",
       "      <td>4251.891892</td>\n",
       "    </tr>\n",
       "    <tr>\n",
       "      <td>27</td>\n",
       "      <td>Jake Locker</td>\n",
       "      <td>TEN</td>\n",
       "      <td>24</td>\n",
       "      <td>QB</td>\n",
       "      <td>11</td>\n",
       "      <td>11</td>\n",
       "      <td>4-7-0</td>\n",
       "      <td>177</td>\n",
       "      <td>314</td>\n",
       "      <td>56.4</td>\n",
       "      <td>...</td>\n",
       "      <td>25</td>\n",
       "      <td>151</td>\n",
       "      <td>5.97</td>\n",
       "      <td>5.10</td>\n",
       "      <td>7.4</td>\n",
       "      <td>0.0</td>\n",
       "      <td>1.0</td>\n",
       "      <td>6.166667</td>\n",
       "      <td>228.0</td>\n",
       "      <td>4214.918919</td>\n",
       "    </tr>\n",
       "  </tbody>\n",
       "</table>\n",
       "<p>5 rows × 33 columns</p>\n",
       "</div>"
      ],
      "text/plain": [
       "              Player   Tm  Age Pos   G  GS   QBrec  Cmp  Att  Cmp%  ...  Sk  \\\n",
       "25  Russell Wilson *  SEA   24  QB  16  16  11-5-0  252  393  64.1  ...  33   \n",
       "1        Drew Brees*  NOR   33  QB  16  16   7-9-0  422  670  63.0  ...  26   \n",
       "26      Michael Vick  PHI   32  QB  10  10   3-7-0  204  351  58.1  ...  28   \n",
       "2         Tony Romo   DAL   32  QB  16  16   8-8-0  425  648  65.6  ...  36   \n",
       "27       Jake Locker  TEN   24  QB  11  11   4-7-0  177  314  56.4  ...  25   \n",
       "\n",
       "    Yds.1  NY/A  ANY/A  Sk%  4QC  GWD    Height  Weight          BMI  \n",
       "25    203  6.84   7.01  7.7  3.0  4.0  5.916667   215.0  4317.571910  \n",
       "1     190  7.17   7.17  3.7  1.0  2.0  6.000000   209.0  4081.305556  \n",
       "26    153  5.83   5.27  7.4  3.0  3.0  6.000000   210.0  4100.833333  \n",
       "2     263  6.78   6.35  5.3  5.0  5.0  6.166667   230.0  4251.891892  \n",
       "27    151  5.97   5.10  7.4  0.0  1.0  6.166667   228.0  4214.918919  \n",
       "\n",
       "[5 rows x 33 columns]"
      ]
     },
     "execution_count": 16,
     "metadata": {},
     "output_type": "execute_result"
    }
   ],
   "source": [
    "pass2012.head()"
   ]
  },
  {
   "cell_type": "code",
   "execution_count": 18,
   "metadata": {},
   "outputs": [
    {
     "data": {
      "text/plain": [
       "<matplotlib.axes._subplots.AxesSubplot at 0x7fa05cbc6850>"
      ]
     },
     "execution_count": 18,
     "metadata": {},
     "output_type": "execute_result"
    },
    {
     "data": {
      "image/png": "[encoded data removed]",
      "text/plain": [
       "<Figure size 432x288 with 1 Axes>"
      ]
     },
     "metadata": {
      "needs_background": "light"
     },
     "output_type": "display_data"
    }
   ],
   "source": [
    "pass2012.Height.plot.hist()"
   ]
  },
  {
   "cell_type": "code",
   "execution_count": 19,
   "metadata": {},
   "outputs": [
    {
     "data": {
      "text/plain": [
       "<matplotlib.axes._subplots.AxesSubplot at 0x7fa05da09290>"
      ]
     },
     "execution_count": 19,
     "metadata": {},
     "output_type": "execute_result"
    },
    {
     "data": {
      "image/png": "[encoded data removed]",
      "text/plain": [
       "<Figure size 432x288 with 1 Axes>"
      ]
     },
     "metadata": {
      "needs_background": "light"
     },
     "output_type": "display_data"
    }
   ],
   "source": [
    "pass2012.plot.scatter('Height','Cmp%')"
   ]
  },
  {
   "cell_type": "code",
   "execution_count": 20,
   "metadata": {},
   "outputs": [
    {
     "data": {
      "text/plain": [
       "<matplotlib.axes._subplots.AxesSubplot at 0x7fa05e75ba90>"
      ]
     },
     "execution_count": 20,
     "metadata": {},
     "output_type": "execute_result"
    },
    {
     "data": {
      "image/png": "[encoded data removed]",
      "text/plain": [
       "<Figure size 432x288 with 1 Axes>"
      ]
     },
     "metadata": {
      "needs_background": "light"
     },
     "output_type": "display_data"
    }
   ],
   "source": [
    "import seaborn as sns\n",
    "import matplotlib.pyplot as plt\n",
    "\n",
    "sns.distplot(pass2012.Height)"
   ]
  },
  {
   "cell_type": "code",
   "execution_count": 22,
   "metadata": {},
   "outputs": [],
   "source": [
    "past_decade = pd.concat(pass_lst)"
   ]
  },
  {
   "cell_type": "code",
   "execution_count": 25,
   "metadata": {},
   "outputs": [
    {
     "data": {
      "text/plain": [
       "134"
      ]
     },
     "execution_count": 25,
     "metadata": {},
     "output_type": "execute_result"
    }
   ],
   "source": [
    "past_decade.Player.nunique()"
   ]
  },
  {
   "cell_type": "code",
   "execution_count": 28,
   "metadata": {},
   "outputs": [
    {
     "data": {
      "text/plain": [
       "<matplotlib.axes._subplots.AxesSubplot at 0x7fa05fc16450>"
      ]
     },
     "execution_count": 28,
     "metadata": {},
     "output_type": "execute_result"
    },
    {
     "data": {
      "image/png": "[encoded data removed]",
      "text/plain": [
       "<Figure size 432x288 with 1 Axes>"
      ]
     },
     "metadata": {
      "needs_background": "light"
     },
     "output_type": "display_data"
    }
   ],
   "source": [
    "all_players = past_decade.groupby('Player').last().Height\n",
    "sns.distplot(all_players)"
   ]
  },
  {
   "cell_type": "code",
   "execution_count": 35,
   "metadata": {},
   "outputs": [
    {
     "ename": "NameError",
     "evalue": "name 'rush_2010' is not defined",
     "output_type": "error",
     "traceback": [
      "\u001b[0;31m---------------------------------------------------------------------------\u001b[0m",
      "\u001b[0;31mNameError\u001b[0m                                 Traceback (most recent call last)",
      "\u001b[0;32m<ipython-input-35-9852ad31eac4>\u001b[0m in \u001b[0;36m<module>\u001b[0;34m\u001b[0m\n\u001b[1;32m      9\u001b[0m \u001b[0mrush2018\u001b[0m \u001b[0;34m=\u001b[0m \u001b[0mpd\u001b[0m\u001b[0;34m.\u001b[0m\u001b[0mread_csv\u001b[0m\u001b[0;34m(\u001b[0m\u001b[0;34m'data/Rushing_2018.csv'\u001b[0m\u001b[0;34m)\u001b[0m\u001b[0;34m\u001b[0m\u001b[0;34m\u001b[0m\u001b[0m\n\u001b[1;32m     10\u001b[0m \u001b[0mrush2019\u001b[0m \u001b[0;34m=\u001b[0m \u001b[0mpd\u001b[0m\u001b[0;34m.\u001b[0m\u001b[0mread_csv\u001b[0m\u001b[0;34m(\u001b[0m\u001b[0;34m'data/Rushing_2019.csv'\u001b[0m\u001b[0;34m)\u001b[0m\u001b[0;34m\u001b[0m\u001b[0;34m\u001b[0m\u001b[0m\n\u001b[0;32m---> 11\u001b[0;31m \u001b[0mrush_lst\u001b[0m \u001b[0;34m=\u001b[0m \u001b[0;34m[\u001b[0m\u001b[0mrush_2010\u001b[0m\u001b[0;34m,\u001b[0m \u001b[0mrush_2011\u001b[0m\u001b[0;34m,\u001b[0m \u001b[0mrush_2012\u001b[0m\u001b[0;34m,\u001b[0m\u001b[0mrush_2013\u001b[0m\u001b[0;34m,\u001b[0m\u001b[0mrush_2014\u001b[0m\u001b[0;34m,\u001b[0m\u001b[0mrush_2015\u001b[0m\u001b[0;34m,\u001b[0m\u001b[0mrush_2016\u001b[0m\u001b[0;34m,\u001b[0m\u001b[0mrush_2017\u001b[0m\u001b[0;34m,\u001b[0m\u001b[0mrush_2018\u001b[0m\u001b[0;34m,\u001b[0m\u001b[0mrush_2019\u001b[0m\u001b[0;34m]\u001b[0m\u001b[0;34m\u001b[0m\u001b[0;34m\u001b[0m\u001b[0m\n\u001b[0m",
      "\u001b[0;31mNameError\u001b[0m: name 'rush_2010' is not defined"
     ]
    }
   ],
   "source": [
    "\n",
    "rush2010 = pd.read_csv('data/Rushing_2010.csv')\n",
    "rush2011 = pd.read_csv('data/Rushing_2011.csv')\n",
    "rush2012 = pd.read_csv('data/Rushing_2012.csv')\n",
    "rush2013 = pd.read_csv('data/Rushing_2013.csv')\n",
    "rush2014 = pd.read_csv('data/Rushing_2014.csv')\n",
    "rush2015 = pd.read_csv('data/Rushing_2015.csv')\n",
    "rush2016 = pd.read_csv('data/Rushing_2016.csv')\n",
    "rush2017 = pd.read_csv('data/Rushing_2017.csv')\n",
    "rush2018 = pd.read_csv('data/Rushing_2018.csv')\n",
    "rush2019 = pd.read_csv('data/Rushing_2019.csv')\n",
    "rush_lst = [rush_2010, rush_2011, rush_2012,rush_2013,rush_2014,rush_2015,rush_2016,rush_2017,rush_2018,rush_2019]\n"
   ]
  },
  {
   "cell_type": "code",
   "execution_count": 36,
   "metadata": {},
   "outputs": [
    {
     "ename": "NameError",
     "evalue": "name 'weight' is not defined",
     "output_type": "error",
     "traceback": [
      "\u001b[0;31m---------------------------------------------------------------------------\u001b[0m",
      "\u001b[0;31mNameError\u001b[0m                                 Traceback (most recent call last)",
      "\u001b[0;32m<ipython-input-36-79370ab8ca5f>\u001b[0m in \u001b[0;36m<module>\u001b[0;34m\u001b[0m\n\u001b[0;32m----> 1\u001b[0;31m \u001b[0mBmi\u001b[0m \u001b[0;34m=\u001b[0m \u001b[0;36m703\u001b[0m \u001b[0;34m*\u001b[0m \u001b[0mweight\u001b[0m\u001b[0;34m/\u001b[0m\u001b[0;34m(\u001b[0m\u001b[0mheight\u001b[0m\u001b[0;34m)\u001b[0m\u001b[0;34m**\u001b[0m\u001b[0;36m2\u001b[0m\u001b[0;34m\u001b[0m\u001b[0;34m\u001b[0m\u001b[0m\n\u001b[0m\u001b[1;32m      2\u001b[0m \u001b[0;34m\u001b[0m\u001b[0m\n\u001b[1;32m      3\u001b[0m \u001b[0mpass2010\u001b[0m\u001b[0;34m[\u001b[0m\u001b[0;34m'QBR'\u001b[0m\u001b[0;34m]\u001b[0m\u001b[0;34m.\u001b[0m\u001b[0mmean\u001b[0m\u001b[0;34m(\u001b[0m\u001b[0;34m)\u001b[0m\u001b[0;34m\u001b[0m\u001b[0;34m\u001b[0m\u001b[0m\n\u001b[1;32m      4\u001b[0m \u001b[0mpass2015\u001b[0m\u001b[0;34m[\u001b[0m\u001b[0;34m'QBR'\u001b[0m\u001b[0;34m]\u001b[0m\u001b[0;34m.\u001b[0m\u001b[0mmean\u001b[0m\u001b[0;34m(\u001b[0m\u001b[0;34m)\u001b[0m\u001b[0;34m\u001b[0m\u001b[0;34m\u001b[0m\u001b[0m\n",
      "\u001b[0;31mNameError\u001b[0m: name 'weight' is not defined"
     ]
    }
   ],
   "source": [
    "Bmi = 703 * weight/(height)**2\n",
    "\n",
    "pass2010['QBR'].mean()\n",
    "pass2015['QBR'].mean()"
   ]
  },
  {
   "cell_type": "code",
   "execution_count": 37,
   "metadata": {},
   "outputs": [
    {
     "data": {
      "text/plain": [
       "3439.3823529411766"
      ]
     },
     "execution_count": 37,
     "metadata": {},
     "output_type": "execute_result"
    }
   ],
   "source": [
    "pass2015['Yds'].mean()"
   ]
  },
  {
   "cell_type": "code",
   "execution_count": 38,
   "metadata": {},
   "outputs": [
    {
     "data": {
      "text/plain": [
       "3105.5882352941176"
      ]
     },
     "execution_count": 38,
     "metadata": {},
     "output_type": "execute_result"
    }
   ],
   "source": [
    "pass2010['Yds'].mean()"
   ]
  },
  {
   "cell_type": "code",
   "execution_count": 39,
   "metadata": {},
   "outputs": [
    {
     "data": {
      "image/png": "[encoded data removed]",
      "text/plain": [
       "<Figure size 432x288 with 1 Axes>"
      ]
     },
     "metadata": {
      "needs_background": "light"
     },
     "output_type": "display_data"
    }
   ],
   "source": [
    "fig, ax = plt.subplots()\n"
   ]
  },
  {
   "cell_type": "code",
   "execution_count": null,
   "metadata": {},
   "outputs": [],
   "source": []
  }
 ],
 "metadata": {
  "kernelspec": {
   "display_name": "Python 3",
   "language": "python",
   "name": "python3"
  },
  "language_info": {
   "codemirror_mode": {
    "name": "ipython",
    "version": 3
   },
   "file_extension": ".py",
   "mimetype": "text/x-python",
   "name": "python",
   "nbconvert_exporter": "python",
   "pygments_lexer": "ipython3",
   "version": "3.7.4"
  }
 },
 "nbformat": 4,
 "nbformat_minor": 2
}
