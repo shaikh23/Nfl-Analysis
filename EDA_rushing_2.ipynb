{
 "cells": [
  {
   "cell_type": "code",
   "execution_count": 1,
   "metadata": {},
   "outputs": [],
   "source": [
    "import pandas as pd\n",
    "import matplotlib.pyplot as plt\n",
    "import seaborn as sns\n",
    "import numpy\n",
    "\n",
    "\n",
    "\n",
    "rush2010 = pd.read_csv('data/Rushing_2010.csv')\n",
    "rush2011 = pd.read_csv('data/Rushing_2011.csv')\n",
    "rush2012 = pd.read_csv('data/Rushing_2012.csv')\n",
    "rush2013 = pd.read_csv('data/Rushing_2013.csv')\n",
    "rush2014 = pd.read_csv('data/Rushing_2014.csv')\n",
    "rush2015 = pd.read_csv('data/Rushing_2015.csv')\n",
    "rush2016 = pd.read_csv('data/Rushing_2016.csv')\n",
    "rush2017 = pd.read_csv('data/Rushing_2017.csv')\n",
    "rush2018 = pd.read_csv('data/Rushing_2018.csv')\n",
    "rush2019 = pd.read_csv('data/Rushing_2019.csv')\n",
    "rush_lst = [rush2010, rush2011, rush2012,rush2013,rush2014,rush2015,rush2016,rush2017,rush2018,rush2019]\n"
   ]
  },
  {
   "cell_type": "code",
   "execution_count": null,
   "metadata": {},
   "outputs": [],
   "source": []
  }
 ],
 "metadata": {
  "kernelspec": {
   "display_name": "Python 3",
   "language": "python",
   "name": "python3"
  },
  "language_info": {
   "codemirror_mode": {
    "name": "ipython",
    "version": 3
   },
   "file_extension": ".py",
   "mimetype": "text/x-python",
   "name": "python",
   "nbconvert_exporter": "python",
   "pygments_lexer": "ipython3",
   "version": "3.7.4"
  }
 },
 "nbformat": 4,
 "nbformat_minor": 2
}
