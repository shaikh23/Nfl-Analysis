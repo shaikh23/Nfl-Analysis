{
 "cells": [
  {
   "cell_type": "code",
   "execution_count": 2,
   "metadata": {},
   "outputs": [
    {
     "data": {
      "text/plain": [
       "Player     object\n",
       "Tm         object\n",
       "Age         int64\n",
       "Pos        object\n",
       "G           int64\n",
       "GS          int64\n",
       "Att         int64\n",
       "Yds         int64\n",
       "TD          int64\n",
       "1D          int64\n",
       "Lng         int64\n",
       "Y/A       float64\n",
       "Y/G       float64\n",
       "Fmb         int64\n",
       "Height     object\n",
       "Weight     object\n",
       "dtype: object"
      ]
     },
     "execution_count": 2,
     "metadata": {},
     "output_type": "execute_result"
    }
   ],
   "source": [
    "import pandas as pd\n",
    "import matplotlib.pyplot as plt\n",
    "import seaborn as sns\n",
    "import numpy\n",
    "import scipy.stats as stats\n",
    "\n",
    "\n",
    "rush2010 = pd.read_csv('data/Rushing_2010.csv')\n",
    "rush2011 = pd.read_csv('data/Rushing_2011.csv')\n",
    "rush2012 = pd.read_csv('data/Rushing_2012.csv')\n",
    "rush2013 = pd.read_csv('data/Rushing_2013.csv')\n",
    "rush2014 = pd.read_csv('data/Rushing_2014.csv')\n",
    "rush2015 = pd.read_csv('data/Rushing_2015.csv')\n",
    "rush2016 = pd.read_csv('data/Rushing_2016.csv')\n",
    "rush2017 = pd.read_csv('data/Rushing_2017.csv')\n",
    "rush2018 = pd.read_csv('data/Rushing_2018.csv')\n",
    "rush2019 = pd.read_csv('data/Rushing_2019.csv')\n",
    "rush_lst = [rush2010, rush2011, rush2012,rush2013,rush2014,rush2015,rush2016,rush2017,rush2018,rush2019]\n",
    "rush2010.dtypes"
   ]
  },
  {
   "cell_type": "code",
   "execution_count": 3,
   "metadata": {},
   "outputs": [
    {
     "data": {
      "text/plain": [
       "72"
      ]
     },
     "execution_count": 3,
     "metadata": {},
     "output_type": "execute_result"
    }
   ],
   "source": [
    "def height_val(s):\n",
    "    feet, inches = s.split('-')\n",
    "    return int(feet)*12 + int(inches)\n",
    "\n",
    "height_val('6-0')"
   ]
  },
  {
   "cell_type": "code",
   "execution_count": 6,
   "metadata": {},
   "outputs": [
    {
     "data": {
      "text/plain": [
       "1184"
      ]
     },
     "execution_count": 6,
     "metadata": {},
     "output_type": "execute_result"
    }
   ],
   "source": [
    "rush2010.size\n",
    "# rush2010.head()"
   ]
  },
  {
   "cell_type": "code",
   "execution_count": 7,
   "metadata": {},
   "outputs": [],
   "source": [
    "for df in rush_lst:\n",
    "    \n",
    "    df['Height'] = df.Height.apply(height_val)\n",
    "    df['Weight'] = df.Weight.str.slice(0,3).astype(float)\n",
    "    df['BMI'] = 703 * df['Weight']/((df['Height'])**2)\n",
    "    df.sort_values(by='Height', inplace=True)"
   ]
  },
  {
   "cell_type": "code",
   "execution_count": 9,
   "metadata": {},
   "outputs": [
    {
     "data": {
      "text/html": [
       "<div>\n",
       "<style scoped>\n",
       "    .dataframe tbody tr th:only-of-type {\n",
       "        vertical-align: middle;\n",
       "    }\n",
       "\n",
       "    .dataframe tbody tr th {\n",
       "        vertical-align: top;\n",
       "    }\n",
       "\n",
       "    .dataframe thead th {\n",
       "        text-align: right;\n",
       "    }\n",
       "</style>\n",
       "<table border=\"1\" class=\"dataframe\">\n",
       "  <thead>\n",
       "    <tr style=\"text-align: right;\">\n",
       "      <th></th>\n",
       "      <th>Player</th>\n",
       "      <th>Tm</th>\n",
       "      <th>Age</th>\n",
       "      <th>Pos</th>\n",
       "      <th>G</th>\n",
       "      <th>GS</th>\n",
       "      <th>Att</th>\n",
       "      <th>Yds</th>\n",
       "      <th>TD</th>\n",
       "      <th>1D</th>\n",
       "      <th>Lng</th>\n",
       "      <th>Y/A</th>\n",
       "      <th>Y/G</th>\n",
       "      <th>Fmb</th>\n",
       "      <th>Height</th>\n",
       "      <th>Weight</th>\n",
       "      <th>BMI</th>\n",
       "    </tr>\n",
       "  </thead>\n",
       "  <tbody>\n",
       "    <tr>\n",
       "      <td>71</td>\n",
       "      <td>Darren Sproles</td>\n",
       "      <td>SDG</td>\n",
       "      <td>27</td>\n",
       "      <td>NaN</td>\n",
       "      <td>16</td>\n",
       "      <td>3</td>\n",
       "      <td>50</td>\n",
       "      <td>267</td>\n",
       "      <td>0</td>\n",
       "      <td>10</td>\n",
       "      <td>34</td>\n",
       "      <td>5.3</td>\n",
       "      <td>16.7</td>\n",
       "      <td>3</td>\n",
       "      <td>66</td>\n",
       "      <td>190.0</td>\n",
       "      <td>30.663453</td>\n",
       "    </tr>\n",
       "    <tr>\n",
       "      <td>7</td>\n",
       "      <td>Maurice Jones-Drew*</td>\n",
       "      <td>JAX</td>\n",
       "      <td>25</td>\n",
       "      <td>RB</td>\n",
       "      <td>14</td>\n",
       "      <td>14</td>\n",
       "      <td>299</td>\n",
       "      <td>1324</td>\n",
       "      <td>5</td>\n",
       "      <td>74</td>\n",
       "      <td>37</td>\n",
       "      <td>4.4</td>\n",
       "      <td>94.6</td>\n",
       "      <td>2</td>\n",
       "      <td>67</td>\n",
       "      <td>210.0</td>\n",
       "      <td>32.887057</td>\n",
       "    </tr>\n",
       "    <tr>\n",
       "      <td>39</td>\n",
       "      <td>Justin Forsett</td>\n",
       "      <td>SEA</td>\n",
       "      <td>25</td>\n",
       "      <td>rb</td>\n",
       "      <td>16</td>\n",
       "      <td>5</td>\n",
       "      <td>118</td>\n",
       "      <td>523</td>\n",
       "      <td>2</td>\n",
       "      <td>24</td>\n",
       "      <td>32</td>\n",
       "      <td>4.4</td>\n",
       "      <td>32.7</td>\n",
       "      <td>0</td>\n",
       "      <td>68</td>\n",
       "      <td>195.0</td>\n",
       "      <td>29.646410</td>\n",
       "    </tr>\n",
       "    <tr>\n",
       "      <td>47</td>\n",
       "      <td>Danny Woodhead</td>\n",
       "      <td>2TM</td>\n",
       "      <td>25</td>\n",
       "      <td>NaN</td>\n",
       "      <td>15</td>\n",
       "      <td>3</td>\n",
       "      <td>97</td>\n",
       "      <td>547</td>\n",
       "      <td>5</td>\n",
       "      <td>0</td>\n",
       "      <td>36</td>\n",
       "      <td>5.6</td>\n",
       "      <td>36.5</td>\n",
       "      <td>1</td>\n",
       "      <td>69</td>\n",
       "      <td>200.0</td>\n",
       "      <td>29.531611</td>\n",
       "    </tr>\n",
       "    <tr>\n",
       "      <td>57</td>\n",
       "      <td>Jerome Harrison</td>\n",
       "      <td>2TM</td>\n",
       "      <td>27</td>\n",
       "      <td>NaN</td>\n",
       "      <td>12</td>\n",
       "      <td>2</td>\n",
       "      <td>71</td>\n",
       "      <td>330</td>\n",
       "      <td>1</td>\n",
       "      <td>0</td>\n",
       "      <td>50</td>\n",
       "      <td>4.6</td>\n",
       "      <td>27.5</td>\n",
       "      <td>2</td>\n",
       "      <td>69</td>\n",
       "      <td>205.0</td>\n",
       "      <td>30.269901</td>\n",
       "    </tr>\n",
       "    <tr>\n",
       "      <td>...</td>\n",
       "      <td>...</td>\n",
       "      <td>...</td>\n",
       "      <td>...</td>\n",
       "      <td>...</td>\n",
       "      <td>...</td>\n",
       "      <td>...</td>\n",
       "      <td>...</td>\n",
       "      <td>...</td>\n",
       "      <td>...</td>\n",
       "      <td>...</td>\n",
       "      <td>...</td>\n",
       "      <td>...</td>\n",
       "      <td>...</td>\n",
       "      <td>...</td>\n",
       "      <td>...</td>\n",
       "      <td>...</td>\n",
       "      <td>...</td>\n",
       "    </tr>\n",
       "    <tr>\n",
       "      <td>0</td>\n",
       "      <td>Derrick Henry *</td>\n",
       "      <td>TEN</td>\n",
       "      <td>25</td>\n",
       "      <td>RB</td>\n",
       "      <td>15</td>\n",
       "      <td>15</td>\n",
       "      <td>303</td>\n",
       "      <td>1540</td>\n",
       "      <td>16</td>\n",
       "      <td>73</td>\n",
       "      <td>74</td>\n",
       "      <td>5.1</td>\n",
       "      <td>102.7</td>\n",
       "      <td>5</td>\n",
       "      <td>75</td>\n",
       "      <td>247.0</td>\n",
       "      <td>30.869511</td>\n",
       "    </tr>\n",
       "    <tr>\n",
       "      <td>69</td>\n",
       "      <td>Jameis Winston</td>\n",
       "      <td>TAM</td>\n",
       "      <td>25</td>\n",
       "      <td>QB</td>\n",
       "      <td>16</td>\n",
       "      <td>16</td>\n",
       "      <td>59</td>\n",
       "      <td>250</td>\n",
       "      <td>1</td>\n",
       "      <td>18</td>\n",
       "      <td>26</td>\n",
       "      <td>4.2</td>\n",
       "      <td>15.6</td>\n",
       "      <td>12</td>\n",
       "      <td>76</td>\n",
       "      <td>231.0</td>\n",
       "      <td>28.115132</td>\n",
       "    </tr>\n",
       "    <tr>\n",
       "      <td>71</td>\n",
       "      <td>Jacoby Brissett</td>\n",
       "      <td>IND</td>\n",
       "      <td>27</td>\n",
       "      <td>QB</td>\n",
       "      <td>15</td>\n",
       "      <td>15</td>\n",
       "      <td>56</td>\n",
       "      <td>228</td>\n",
       "      <td>4</td>\n",
       "      <td>20</td>\n",
       "      <td>24</td>\n",
       "      <td>4.1</td>\n",
       "      <td>15.2</td>\n",
       "      <td>7</td>\n",
       "      <td>76</td>\n",
       "      <td>238.0</td>\n",
       "      <td>28.967105</td>\n",
       "    </tr>\n",
       "    <tr>\n",
       "      <td>65</td>\n",
       "      <td>Carson Wentz</td>\n",
       "      <td>PHI</td>\n",
       "      <td>27</td>\n",
       "      <td>QB</td>\n",
       "      <td>16</td>\n",
       "      <td>16</td>\n",
       "      <td>62</td>\n",
       "      <td>243</td>\n",
       "      <td>1</td>\n",
       "      <td>21</td>\n",
       "      <td>19</td>\n",
       "      <td>3.9</td>\n",
       "      <td>15.2</td>\n",
       "      <td>16</td>\n",
       "      <td>77</td>\n",
       "      <td>237.0</td>\n",
       "      <td>28.101029</td>\n",
       "    </tr>\n",
       "    <tr>\n",
       "      <td>41</td>\n",
       "      <td>Josh Allen</td>\n",
       "      <td>BUF</td>\n",
       "      <td>23</td>\n",
       "      <td>QB</td>\n",
       "      <td>16</td>\n",
       "      <td>16</td>\n",
       "      <td>109</td>\n",
       "      <td>510</td>\n",
       "      <td>9</td>\n",
       "      <td>42</td>\n",
       "      <td>36</td>\n",
       "      <td>4.7</td>\n",
       "      <td>31.9</td>\n",
       "      <td>14</td>\n",
       "      <td>77</td>\n",
       "      <td>237.0</td>\n",
       "      <td>28.101029</td>\n",
       "    </tr>\n",
       "  </tbody>\n",
       "</table>\n",
       "<p>740 rows × 17 columns</p>\n",
       "</div>"
      ],
      "text/plain": [
       "                 Player   Tm  Age  Pos   G  GS  Att   Yds  TD  1D  Lng  Y/A  \\\n",
       "71       Darren Sproles  SDG   27  NaN  16   3   50   267   0  10   34  5.3   \n",
       "7   Maurice Jones-Drew*  JAX   25   RB  14  14  299  1324   5  74   37  4.4   \n",
       "39       Justin Forsett  SEA   25   rb  16   5  118   523   2  24   32  4.4   \n",
       "47       Danny Woodhead  2TM   25  NaN  15   3   97   547   5   0   36  5.6   \n",
       "57      Jerome Harrison  2TM   27  NaN  12   2   71   330   1   0   50  4.6   \n",
       "..                  ...  ...  ...  ...  ..  ..  ...   ...  ..  ..  ...  ...   \n",
       "0       Derrick Henry *  TEN   25   RB  15  15  303  1540  16  73   74  5.1   \n",
       "69       Jameis Winston  TAM   25   QB  16  16   59   250   1  18   26  4.2   \n",
       "71      Jacoby Brissett  IND   27   QB  15  15   56   228   4  20   24  4.1   \n",
       "65        Carson Wentz   PHI   27   QB  16  16   62   243   1  21   19  3.9   \n",
       "41          Josh Allen   BUF   23   QB  16  16  109   510   9  42   36  4.7   \n",
       "\n",
       "      Y/G  Fmb  Height  Weight        BMI  \n",
       "71   16.7    3      66   190.0  30.663453  \n",
       "7    94.6    2      67   210.0  32.887057  \n",
       "39   32.7    0      68   195.0  29.646410  \n",
       "47   36.5    1      69   200.0  29.531611  \n",
       "57   27.5    2      69   205.0  30.269901  \n",
       "..    ...  ...     ...     ...        ...  \n",
       "0   102.7    5      75   247.0  30.869511  \n",
       "69   15.6   12      76   231.0  28.115132  \n",
       "71   15.2    7      76   238.0  28.967105  \n",
       "65   15.2   16      77   237.0  28.101029  \n",
       "41   31.9   14      77   237.0  28.101029  \n",
       "\n",
       "[740 rows x 17 columns]"
      ]
     },
     "execution_count": 9,
     "metadata": {},
     "output_type": "execute_result"
    }
   ],
   "source": [
    "past_decade = pd.concat(rush_lst)\n",
    "past_decade"
   ]
  },
  {
   "cell_type": "code",
   "execution_count": 12,
   "metadata": {},
   "outputs": [
    {
     "data": {
      "image/png": "[encoded data removed]",
      "text/plain": [
       "<Figure size 432x288 with 1 Axes>"
      ]
     },
     "metadata": {
      "needs_background": "light"
     },
     "output_type": "display_data"
    }
   ],
   "source": [
    "sns.distplot(rush2010.Height, label='Rush 2010')\n",
    "sns.distplot(rush2019.Height, label='Rush 2019')\n",
    "sns.distplot(past_decade.Height, label='Past Decade')\n",
    "plt.legend()\n",
    "plt.show()"
   ]
  },
  {
   "cell_type": "code",
   "execution_count": 13,
   "metadata": {},
   "outputs": [
    {
     "data": {
      "image/png": "[encoded data removed]",
      "text/plain": [
       "<Figure size 432x288 with 1 Axes>"
      ]
     },
     "metadata": {
      "needs_background": "light"
     },
     "output_type": "display_data"
    }
   ],
   "source": [
    "sns.distplot(rush2010.BMI, label='Rush 2010')\n",
    "sns.distplot(rush2019.BMI, label='Rush 2019')\n",
    "sns.distplot(past_decade.BMI, label='Past Decade')\n",
    "plt.legend()\n",
    "plt.show()"
   ]
  },
  {
   "cell_type": "code",
   "execution_count": 15,
   "metadata": {},
   "outputs": [
    {
     "data": {
      "text/plain": [
       "Ttest_indResult(statistic=-13.071472879994339, pvalue=2.4252426917019184e-26)"
      ]
     },
     "execution_count": 15,
     "metadata": {},
     "output_type": "execute_result"
    },
    {
     "data": {
      "image/png": "[encoded data removed]",
      "text/plain": [
       "<Figure size 432x288 with 1 Axes>"
      ]
     },
     "metadata": {
      "needs_background": "light"
     },
     "output_type": "display_data"
    }
   ],
   "source": [
    "ax = rush2010[rush2010.Height<=70].plot.scatter('Height', 'Yds')\n",
    "rush2010[rush2010.Height>70].plot.scatter('Height', 'Yds',ax=ax, c='r')\n",
    "m, b, _,_,_=stats.linregress(rush2010.Height,rush2010.Yds)\n",
    "x=numpy.linspace(rush2010.Height.min(),rush2010.Height.max(),2)\n",
    "y=m*x +b\n",
    "ax.plot(x,y,c='m')\n"
   ]
  },
  {
   "cell_type": "code",
   "execution_count": 17,
   "metadata": {},
   "outputs": [
    {
     "data": {
      "text/plain": [
       "Ttest_indResult(statistic=-0.14370860530270088, pvalue=0.8861320383376212)"
      ]
     },
     "execution_count": 17,
     "metadata": {},
     "output_type": "execute_result"
    }
   ],
   "source": [
    "short = rush2010[rush2010.Height<=70]\n",
    "tall = rush2010[rush2010.Height>70]\n",
    "stats.ttest_ind(short.Yds, tall.Yds)"
   ]
  },
  {
   "cell_type": "code",
   "execution_count": 18,
   "metadata": {},
   "outputs": [
    {
     "data": {
      "text/plain": [
       "<matplotlib.axes._subplots.AxesSubplot at 0x7fb9b5c43c90>"
      ]
     },
     "execution_count": 18,
     "metadata": {},
     "output_type": "execute_result"
    },
    {
     "data": {
      "image/png": "[encoded data removed]",
      "text/plain": [
       "<Figure size 432x288 with 1 Axes>"
      ]
     },
     "metadata": {
      "needs_background": "light"
     },
     "output_type": "display_data"
    }
   ],
   "source": [
    "rush2010.plot.scatter('Height', 'Yds')"
   ]
  },
  {
   "cell_type": "code",
   "execution_count": 19,
   "metadata": {},
   "outputs": [
    {
     "data": {
      "text/plain": [
       "<matplotlib.axes._subplots.AxesSubplot at 0x7fb9b5e0f890>"
      ]
     },
     "execution_count": 19,
     "metadata": {},
     "output_type": "execute_result"
    },
    {
     "data": {
      "image/png": "[encoded data removed]",
      "text/plain": [
       "<Figure size 432x288 with 1 Axes>"
      ]
     },
     "metadata": {
      "needs_background": "light"
     },
     "output_type": "display_data"
    }
   ],
   "source": [
    "rush2019.plot.scatter('Height', 'Yds')"
   ]
  },
  {
   "cell_type": "code",
   "execution_count": null,
   "metadata": {},
   "outputs": [],
   "source": []
  }
 ],
 "metadata": {
  "kernelspec": {
   "display_name": "Python 3",
   "language": "python",
   "name": "python3"
  },
  "language_info": {
   "codemirror_mode": {
    "name": "ipython",
    "version": 3
   },
   "file_extension": ".py",
   "mimetype": "text/x-python",
   "name": "python",
   "nbconvert_exporter": "python",
   "pygments_lexer": "ipython3",
   "version": "3.7.4"
  }
 },
 "nbformat": 4,
 "nbformat_minor": 2
}
